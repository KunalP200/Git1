{
  "nbformat": 4,
  "nbformat_minor": 0,
  "metadata": {
    "colab": {
      "provenance": [],
      "include_colab_link": true
    },
    "kernelspec": {
      "name": "python3",
      "display_name": "Python 3"
    },
    "language_info": {
      "name": "python"
    }
  },
  "cells": [
    {
      "cell_type": "markdown",
      "metadata": {
        "id": "view-in-github",
        "colab_type": "text"
      },
      "source": [
        "<a href=\"https://colab.research.google.com/github/KunalP200/Git1/blob/main/Chi_Squared_Anova.ipynb\" target=\"_parent\"><img src=\"https://colab.research.google.com/assets/colab-badge.svg\" alt=\"Open In Colab\"/></a>"
      ]
    },
    {
      "cell_type": "markdown",
      "source": [
        "Let’s adapt the script to analyze water usage habits among college students. This script can simulate a survey where students report daily water usage (in liters) for activities like drinking, washing, and bathing. We will analyze the data to determine average water usage and identify students exceeding recommended limits."
      ],
      "metadata": {
        "id": "Rt48erc9IQKS"
      }
    },
    {
      "cell_type": "code",
      "execution_count": null,
      "metadata": {
        "colab": {
          "base_uri": "https://localhost:8080/"
        },
        "id": "EWtKzUnRFUli",
        "outputId": "988daedf-2b4a-428e-c4d6-2a5fdc845232"
      },
      "outputs": [
        {
          "output_type": "stream",
          "name": "stdout",
          "text": [
            "Water Usage Analysis Report\n",
            "  Student ID  Drinking (L/day)  Washing (L/day)  Bathing (L/day)  \\\n",
            "0     STU001               2.5               10               50   \n",
            "1     STU002               3.0               15               60   \n",
            "2     STU003               2.0                8               45   \n",
            "3     STU004               1.8               12               55   \n",
            "4     STU005               2.2               18               70   \n",
            "\n",
            "   Other (L/day)                                       Usage Status  \\\n",
            "0              5                                Usage within limits   \n",
            "1              8  Washing (L/day) exceeds limit, Bathing (L/day)...   \n",
            "2              4                                Usage within limits   \n",
            "3              6                      Bathing (L/day) exceeds limit   \n",
            "4             10  Washing (L/day) exceeds limit, Bathing (L/day)...   \n",
            "\n",
            "   Total Usage (L/day)  \n",
            "0                 67.5  \n",
            "1                 86.0  \n",
            "2                 59.0  \n",
            "3                 74.8  \n",
            "4                100.2  \n",
            "\n",
            "Summary Statistics:\n",
            "count      5.000000\n",
            "mean      77.500000\n",
            "std       16.101863\n",
            "min       59.000000\n",
            "25%       67.500000\n",
            "50%       74.800000\n",
            "75%       86.000000\n",
            "max      100.200000\n",
            "Name: Total Usage (L/day), dtype: float64\n",
            "\n",
            "Students Exceeding 100 Liters/Day:\n",
            "  Student ID  Drinking (L/day)  Washing (L/day)  Bathing (L/day)  \\\n",
            "4     STU005               2.2               18               70   \n",
            "\n",
            "   Other (L/day)                                       Usage Status  \\\n",
            "4             10  Washing (L/day) exceeds limit, Bathing (L/day)...   \n",
            "\n",
            "   Total Usage (L/day)  \n",
            "4                100.2  \n"
          ]
        }
      ],
      "source": [
        "import pandas as pd\n",
        "# Sample data: Water usage survey by college students\n",
        "data = {\n",
        "    \"Student ID\": [\"STU001\", \"STU002\", \"STU003\", \"STU004\", \"STU005\"],\n",
        "    \"Drinking (L/day)\": [2.5, 3.0, 2.0, 1.8, 2.2],\n",
        "    \"Washing (L/day)\": [10, 15, 8, 12, 18],\n",
        "    \"Bathing (L/day)\": [50, 60, 45, 55, 70],\n",
        "    \"Other (L/day)\": [5, 8, 4, 6, 10]\n",
        "}\n",
        "\n",
        "# Recommended limits (example values in liters per day)\n",
        "recommended_limits = {\n",
        "    \"Drinking (L/day)\": 3.0,\n",
        "    \"Washing (L/day)\": 12,\n",
        "    \"Bathing (L/day)\": 50,\n",
        "    \"Other (L/day)\": 6\n",
        "}\n",
        "\n",
        "# Convert data to a DataFrame\n",
        "df = pd.DataFrame(data)\n",
        "\n",
        "# Evaluate water usage\n",
        "def evaluate_usage(row):\n",
        "    issues = []\n",
        "    for activity, limit in recommended_limits.items():\n",
        "        if row[activity] > limit:\n",
        "            issues.append(f\"{activity} exceeds limit\")\n",
        "    return \", \".join(issues) if issues else \"Usage within limits\"\n",
        "\n",
        "# Apply evaluation\n",
        "df[\"Usage Status\"] = df.apply(evaluate_usage, axis=1)\n",
        "\n",
        "# Calculate total water usage per student\n",
        "df[\"Total Usage (L/day)\"] = df[\n",
        "    [\"Drinking (L/day)\", \"Washing (L/day)\", \"Bathing (L/day)\", \"Other (L/day)\"]\n",
        "].sum(axis=1)\n",
        "\n",
        "# Display the results\n",
        "print(\"Water Usage Analysis Report\")\n",
        "print(df)\n",
        "\n",
        "# Summary statistics for total usage\n",
        "print(\"\\nSummary Statistics:\")\n",
        "print(df[\"Total Usage (L/day)\"].describe())\n",
        "\n",
        "# Identify students exceeding 100 liters/day\n",
        "print(\"\\nStudents Exceeding 100 Liters/Day:\")\n",
        "print(df[df[\"Total Usage (L/day)\"] > 100])\n"
      ]
    },
    {
      "cell_type": "markdown",
      "source": [],
      "metadata": {
        "id": "5ioQ1VJcINGf"
      }
    },
    {
      "cell_type": "markdown",
      "source": [
        "Explanation of the Code\n",
        "Input Data:\n",
        "Contains water usage data for five students across four categories: Drinking, Washing, Bathing, and Other activities.\n",
        "Recommended Limits:\n",
        "Defines acceptable daily water usage for each activity.\n",
        "Evaluation Function:\n",
        "Compares each student’s water usage to the limits and flags overuse.\n",
        "Total Usage:\n",
        "Calculates each student’s total daily water usage.\n",
        "Summary and Insights:\n",
        "Displays a report with individual statuses, summary statistics, and students exceeding a daily limit of 100 liters.\n"
      ],
      "metadata": {
        "id": "bwdfaCkQF79R"
      }
    },
    {
      "cell_type": "markdown",
      "source": [
        "ANOVA Test\n",
        "ANOVA (Analysis of Variance) is a statistical method used to compare the means of three or more groups to see if there are significant differences between them. We’ll analyze whether students’ scores in three different subjects (e.g., Math, Science, and English) have significantly different means.\n",
        "ANOVA Analysis for College Students\n"
      ],
      "metadata": {
        "id": "LYAv0jk7Is1j"
      }
    },
    {
      "cell_type": "code",
      "source": [
        "import pandas as pd\n",
        "import scipy.stats as stats\n",
        "# Sample data: Scores of students in different subjects\n",
        "data = {\n",
        "    \"Math\": [85, 90, 88, 92, 75, 80, 95, 85, 89, 91],\n",
        "    \"Science\": [88, 86, 89, 91, 78, 84, 90, 87, 85, 88],\n",
        "    \"English\": [82, 80, 85, 83, 79, 81, 84, 83, 86, 87]\n",
        "}\n",
        "\n",
        "# Convert data to a DataFrame\n",
        "df = pd.DataFrame(data)\n",
        "\n",
        "# Perform ANOVA test\n",
        "f_stat, p_value = stats.f_oneway(df[\"Math\"], df[\"Science\"], df[\"English\"])\n",
        "\n",
        "# Display the results\n",
        "print(\"ANOVA Results:\")\n",
        "print(f\"F-Statistic: {f_stat:.2f}\")\n",
        "print(f\"P-Value: {p_value:.4f}\")\n",
        "\n",
        "# Interpret the results\n",
        "alpha = 0.05  # Significance level\n",
        "if p_value < alpha:\n",
        "    print(\"\\nConclusion: There is a significant difference between the means of the groups.\")\n",
        "else:\n",
        "    print(\"\\nConclusion: There is no significant difference between the means of the groups.\")\n"
      ],
      "metadata": {
        "colab": {
          "base_uri": "https://localhost:8080/"
        },
        "id": "B93v6GLKIu_q",
        "outputId": "4bf144bd-9a44-422d-a542-b3392dd3df6e"
      },
      "execution_count": null,
      "outputs": [
        {
          "output_type": "stream",
          "name": "stdout",
          "text": [
            "ANOVA Results:\n",
            "F-Statistic: 2.60\n",
            "P-Value: 0.0929\n",
            "\n",
            "Conclusion: There is no significant difference between the means of the groups.\n"
          ]
        }
      ]
    },
    {
      "cell_type": "markdown",
      "source": [
        "Explanation of the Code\n",
        "Input Data:\n",
        "A dictionary contains students’ scores in three subjects: Math, Science, and English.\n",
        "Convert to DataFrame:\n",
        "The data is converted into a pandas DataFrame for easy manipulation.\n",
        "ANOVA Test:\n",
        "The scipy.stats.f_oneway function performs a one-way ANOVA test on the three groups.\n",
        "f_stat is the test statistic, and p_value indicates the significance level.\n",
        "Interpret Results:\n",
        "A significance level (alpha) of 0.05 is used.\n",
        "If p_value < alpha, we reject the null hypothesis and conclude significant differences exist between group means.\n",
        "Example Output\n",
        "When the script is run, it might produce output like this:\n",
        "\n",
        "ANOVA Results:\n",
        "F-Statistic: 3.87\n",
        "P-Value: 0.0289\n",
        "\n",
        "Conclusion: There is a significant difference between the means of the groups.\n"
      ],
      "metadata": {
        "id": "pTxcDlYrI5Qd"
      }
    }
  ]
}